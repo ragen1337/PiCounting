{
  "nbformat": 4,
  "nbformat_minor": 0,
  "metadata": {
    "colab": {
      "name": "PiCounting.ipynb",
      "provenance": []
    },
    "kernelspec": {
      "name": "python3",
      "display_name": "Python 3"
    }
  },
  "cells": [
    {
      "cell_type": "code",
      "metadata": {
        "colab": {
          "base_uri": "https://localhost:8080/",
          "height": 282
        },
        "id": "U9V4eaMr5za7",
        "outputId": "179865ad-71a6-4673-d7f2-1dca2c74f845"
      },
      "source": [
        "\n",
        "import matplotlib.pyplot as plt\n",
        "\n",
        "def pi(n):\n",
        "  sum = 0;\n",
        "  for i in range(n):\n",
        "    sum+=1/((4*i+1)*(4*i+3))\n",
        "  \n",
        "  return 8*sum\n",
        "\n",
        "def test(n):\n",
        "  pi_results_list = []\n",
        "  for i in range(1, n):\n",
        "    pi_results_list.append( pi(i) )\n",
        "\n",
        "  return pi_results_list;\n",
        "\n",
        "pi_list = test(1000)\n",
        "\n",
        "fig, ax = plt.subplots()\n",
        "\n",
        "print(\"Значения числа PI:\")\n",
        "ax.plot(pi_list)\n",
        "plt.show()"
      ],
      "execution_count": null,
      "outputs": [
        {
          "output_type": "stream",
          "text": [
            "Значения числа PI:\n"
          ],
          "name": "stdout"
        },
        {
          "output_type": "display_data",
          "data": {
            "image/png": "[encoded data removed]",
            "text/plain": [
              "<Figure size 432x288 with 1 Axes>"
            ]
          },
          "metadata": {
            "tags": [],
            "needs_background": "light"
          }
        }
      ]
    },
    {
      "cell_type": "code",
      "metadata": {
        "colab": {
          "base_uri": "https://localhost:8080/",
          "height": 282
        },
        "id": "6L-55UzhGTvC",
        "outputId": "be6fc0db-5c17-4ede-a4f6-5daeb6afa540"
      },
      "source": [
        "fig, ax = plt.subplots()\n",
        "\n",
        "print(\"Значения абсолютной погрешности :\")\n",
        "ax.plot([(abs(math.pi - x)) for x in pi_list])\n",
        "plt.show()"
      ],
      "execution_count": null,
      "outputs": [
        {
          "output_type": "stream",
          "text": [
            "Значения абсолютной погрешности :\n"
          ],
          "name": "stdout"
        },
        {
          "output_type": "display_data",
          "data": {
            "image/png": "[encoded data removed]",
            "text/plain": [
              "<Figure size 432x288 with 1 Axes>"
            ]
          },
          "metadata": {
            "tags": [],
            "needs_background": "light"
          }
        }
      ]
    },
    {
      "cell_type": "code",
      "metadata": {
        "colab": {
          "base_uri": "https://localhost:8080/",
          "height": 282
        },
        "id": "SSp4iNaIGeXc",
        "outputId": "2509450d-2c5e-4f48-9d9e-ced5b27a088d"
      },
      "source": [
        "fig, ax = plt.subplots()\n",
        "\n",
        "print(\"Значения относительной погрешности :\")\n",
        "ax.plot([(abs(math.pi - x))/math.pi for x in pi_list])\n",
        "plt.show()"
      ],
      "execution_count": null,
      "outputs": [
        {
          "output_type": "stream",
          "text": [
            "Значения относительной погрешности :\n"
          ],
          "name": "stdout"
        },
        {
          "output_type": "display_data",
          "data": {
            "image/png": "[encoded data removed]",
            "text/plain": [
              "<Figure size 432x288 with 1 Axes>"
            ]
          },
          "metadata": {
            "tags": [],
            "needs_background": "light"
          }
        }
      ]
    }
  ]
}